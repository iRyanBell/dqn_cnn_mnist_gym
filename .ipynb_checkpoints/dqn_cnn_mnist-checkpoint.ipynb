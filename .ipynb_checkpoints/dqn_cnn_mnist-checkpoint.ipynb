{
 "cells": [
  {
   "cell_type": "markdown",
   "metadata": {},
   "source": [
    "## MnistGym\n",
    "In this OpenAI training gym environment, handwritten digits (0 through 9) are displayed to a reinforcement learning agent on a 128x128px canvas. A correct discrete value action for a matching observation receives a reward."
   ]
  },
  {
   "cell_type": "code",
   "execution_count": 133,
   "metadata": {},
   "outputs": [],
   "source": [
    "# Load dependencies.\n",
    "import os\n",
    "import cv2\n",
    "import numpy as np\n",
    "import tensorflow as tf\n",
    "from tqdm.notebook import trange\n",
    "\n",
    "import gym\n",
    "from gym import spaces\n",
    "\n",
    "from stable_baselines import DQN\n",
    "from stable_baselines.common.vec_env import DummyVecEnv\n",
    "from stable_baselines.deepq.policies import CnnPolicy\n",
    "\n",
    "import matplotlib.pyplot as plt\n",
    "%matplotlib inline"
   ]
  },
  {
   "cell_type": "code",
   "execution_count": 137,
   "metadata": {},
   "outputs": [],
   "source": [
    "# Import the MNIST data.\n",
    "(X_train, y_train), (X_test, y_test) = tf.keras.datasets.mnist.load_data()\n",
    "\n",
    "# Define the gym environment.\n",
    "class MnistGym(gym.Env):\n",
    "    def __init__(self, width=128, height=128, channels=1, dataset):\n",
    "        # Training dataset (Handwritten digits on a 28x28px canvas).\n",
    "        self.X, self.y = dataset\n",
    "        \n",
    "        # Reset the state index, used to step through dataset.\n",
    "        self.idx = 0\n",
    "        \n",
    "        # Digits 0-9 are valid actions.\n",
    "        self.action_space = spaces.Discrete(10)\n",
    "        \n",
    "        # A 1-channel canvas is used for observations.\n",
    "        self.observation_space = spaces.Box(low=0, high=255, shape=(width, height, channels), dtype=np.uint8)\n",
    "    def _obs(self):\n",
    "        # Return a frame at the target dimensions from self.X at the current state index for the CnnPolicy.\n",
    "        width, height, channels = (self.observation_space.shape[0],\n",
    "                                   self.observation_space.shape[1],\n",
    "                                   self.observation_space.shape[2])\n",
    "        obs = self.X[self.idx]\n",
    "        \n",
    "        # Enlarge the observation if the dataset is smaller than the target canvas.\n",
    "        if obs.shape[0] < width or obs.shape[1] < height:\n",
    "            obs = cv2.resize(obs, (width, height), interpolation = cv2.INTER_CUBIC)\n",
    "            obs = obs.reshape(width, height, channels)\n",
    "        return obs\n",
    "    def step(self, action):\n",
    "        # The agent earns 1 point for a correct label.\n",
    "        reward = 1 if action == self.y[self.idx] else 0\n",
    "        \n",
    "        # The state index increments at each step then wraps around at the end of the training dataset.\n",
    "        self.idx = self.idx + 1 if self.idx < len(self.X) - 1 else 0\n",
    "        \n",
    "        # Return the observation, earned reward, terminal state, and info dict.\n",
    "        return self._obs(), reward, self.idx == 0, {}\n",
    "    def reset(self):\n",
    "        # Reset the index to the beginning of the training dataset and return the initial observation.\n",
    "        self.idx = 0\n",
    "        return self._obs()\n",
    "    def render(self, action='', mode='human', close=False):\n",
    "        # Display the labeled observation.\n",
    "        width, height = self.observation_space.shape[0], self.observation_space.shape[1]\n",
    "        fig, ax = plt.subplots(1)\n",
    "        ax.imshow(self._obs().reshape(width, height), cmap='Greys')\n",
    "        \n",
    "        # Label with the correct value and action if supplied. \n",
    "        title = '{}-{}'.format(action, self.y[self.idx]) if action != '' else self.y[self.idx]\n",
    "        ax.set_title(title)\n",
    "        plt.show()"
   ]
  },
  {
   "cell_type": "code",
   "execution_count": 138,
   "metadata": {},
   "outputs": [],
   "source": [
    "# Load the custom gym into a vectorized environment.\n",
    "env = DummyVecEnv([lambda: MnistGym(width=128, height=128, channels=1, dataset=(X_train, y_train))])\n",
    "\n",
    "# Grab the observation shape for generating evaluation frames.\n",
    "width, height = env.observation_space.shape[0], env.observation_space.shape[1]"
   ]
  },
  {
   "cell_type": "code",
   "execution_count": 153,
   "metadata": {},
   "outputs": [],
   "source": [
    "def create_model(pretrained=False, save_model=True, epochs=2):\n",
    "    model_name = \"dqn_cnn_mnist\"\n",
    "    \n",
    "    # Return a pretrained model if the flag is set. Otherwise, train a new model.\n",
    "    if pretrained:\n",
    "        return DQN.load(model_name)\n",
    "\n",
    "    # Create a model from a DQN agent with a CnnPolicy attached to a tensorboard logger.\n",
    "    model = DQN(CnnPolicy, env, verbose=1, tensorboard_log=\"./mnist_log\")\n",
    "\n",
    "    # Train the model on several epochs through the full training dataset.\n",
    "    model.learn(total_timesteps=len(X_train) * epochs)\n",
    "    \n",
    "    # Save the new model if the flag is set.\n",
    "    if save_model:\n",
    "        model.save(model_name)\n",
    "\n",
    "    return model\n",
    "\n",
    "model = create_model(pretrained=False, save_model=True, epochs=2)"
   ]
  },
  {
   "cell_type": "code",
   "execution_count": 149,
   "metadata": {},
   "outputs": [],
   "source": [
    "model.save(\"dqn_cnn_mnist\")"
   ]
  },
  {
   "cell_type": "code",
   "execution_count": 151,
   "metadata": {},
   "outputs": [
    {
     "data": {
      "application/vnd.jupyter.widget-view+json": {
       "model_id": "d99e7dd8ff95431bbe3b0b5aa1ac190c",
       "version_major": 2,
       "version_minor": 0
      },
      "text/plain": [
       "HBox(children=(IntProgress(value=0, max=10000), HTML(value='')))"
      ]
     },
     "metadata": {},
     "output_type": "display_data"
    },
    {
     "name": "stdout",
     "output_type": "stream",
     "text": [
      "\n",
      "Accuracy: 98.00%\n"
     ]
    }
   ],
   "source": [
    "# Evaluate the model by counting the total rewards attained on the test dataset.\n",
    "total_rewards = 0\n",
    "\n",
    "for idx in trange(len(X_test)):\n",
    "    # Generate an evaluation observation frame.\n",
    "    obs = cv2.resize(X_test[idx], (width, height), interpolation = cv2.INTER_CUBIC)\n",
    "    obs = obs.reshape(width, height, 1)\n",
    "    \n",
    "    # Predict an action based on the observation.\n",
    "    action, _states = model.predict(obs)\n",
    "\n",
    "    # Score the prediction.\n",
    "    reward = 1 if action == y_test[idx] else 0\n",
    "    total_rewards += reward\n",
    "\n",
    "print('Accuracy: {:.2f}%'.format(total_rewards / len(X_test) * 100.0))"
   ]
  },
  {
   "cell_type": "code",
   "execution_count": null,
   "metadata": {},
   "outputs": [],
   "source": []
  }
 ],
 "metadata": {
  "kernelspec": {
   "display_name": "Python 3",
   "language": "python",
   "name": "python3"
  },
  "language_info": {
   "codemirror_mode": {
    "name": "ipython",
    "version": 3
   },
   "file_extension": ".py",
   "mimetype": "text/x-python",
   "name": "python",
   "nbconvert_exporter": "python",
   "pygments_lexer": "ipython3",
   "version": "3.7.5"
  }
 },
 "nbformat": 4,
 "nbformat_minor": 2
}
